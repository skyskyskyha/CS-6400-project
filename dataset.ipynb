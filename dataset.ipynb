{
 "cells": [
  {
   "cell_type": "markdown",
   "source": [
    "# Generate all datasets"
   ],
   "metadata": {
    "collapsed": false
   },
   "id": "c600f12ca648a89c"
  },
  {
   "cell_type": "markdown",
   "source": [
    "## Function parameters\n",
    "source_users, source_businesses, source_tips: original file names\n",
    "output_users, output_businesses, output_tips: output file names\n",
    "max_users, max_businesses, max_tips: max number of users, businesses, tips\n",
    "max_friends: max number of friends per user, fixed_friend: set to true if all users have the same number of friends, otherwise random\n",
    "random_compliments, random_elite_years, random_tip_compliments: set to true if want to randomize these fields (they are mostly 0 in the original dataset)"
   ],
   "metadata": {
    "collapsed": false
   },
   "id": "8d86b4dcc1502039"
  },
  {
   "cell_type": "code",
   "execution_count": 1,
   "id": "initial_id",
   "metadata": {
    "collapsed": true,
    "ExecuteTime": {
     "end_time": "2024-12-04T04:21:33.829580Z",
     "start_time": "2024-12-04T04:21:33.810489900Z"
    }
   },
   "outputs": [],
   "source": [
    "from datasetUtils import *"
   ]
  },
  {
   "cell_type": "code",
   "execution_count": 6,
   "outputs": [],
   "source": [
    "source_users = './yelp_dataset/yelp_dataset/yelp_academic_dataset_user.json'\n",
    "source_businesses = './yelp_dataset/yelp_dataset/yelp_academic_dataset_business.json'\n",
    "source_tips = './yelp_dataset/yelp_dataset/yelp_academic_dataset_tip.json'"
   ],
   "metadata": {
    "collapsed": false,
    "ExecuteTime": {
     "end_time": "2024-12-04T04:23:55.587387700Z",
     "start_time": "2024-12-04T04:23:55.567304400Z"
    }
   },
   "id": "57701fba34f171fe"
  },
  {
   "cell_type": "markdown",
   "source": [
    "## Dataset 0\n",
    "50000 users, 10000 businesses, 20000 tips, friends are random, max 100 friends per user"
   ],
   "metadata": {
    "collapsed": false
   },
   "id": "200b21fcb15af5e2"
  },
  {
   "cell_type": "code",
   "execution_count": null,
   "outputs": [],
   "source": [
    "output_users = 'reduced_users.json'\n",
    "output_businesses = 'reduced_businesses.json'\n",
    "output_tips = 'reduced_tips.json'\n",
    "max_users = 50000\n",
    "max_businesses = 10000\n",
    "max_tips = 20000\n",
    "max_friends = 100\n",
    "generate_reduced_dataset(source_users, source_businesses, source_tips, output_users, output_businesses, output_tips, max_users, max_businesses, max_tips, max_friends,\n",
    "                         fixed_friend= False, random_compliments=True, random_elite_years=True, random_tip_compliments=True)"
   ],
   "metadata": {
    "collapsed": false
   },
   "id": "dd8ed59b121dd543"
  },
  {
   "cell_type": "markdown",
   "source": [
    "## Dataset 1\n",
    "50000 users, 10000 businesses, 20000 tips, friends are fixed, 100 friends per user"
   ],
   "metadata": {
    "collapsed": false
   },
   "id": "b814737c244a9e04"
  },
  {
   "cell_type": "code",
   "execution_count": null,
   "outputs": [],
   "source": [
    "output_users = 'set1_users.json'\n",
    "output_businesses = 'set1_businesses.json'\n",
    "output_tips = 'set1_tips.json'\n",
    "max_users = 50000\n",
    "max_businesses = 10000\n",
    "max_tips = 20000\n",
    "max_friends = 100\n",
    "generate_reduced_dataset(source_users, source_businesses, source_tips, output_users, output_businesses, output_tips, max_users, max_businesses, max_tips, max_friends,\n",
    "                         fixed_friend= True, random_compliments=True, random_elite_years=True, random_tip_compliments=True)"
   ],
   "metadata": {
    "collapsed": false
   },
   "id": "26acadf21ea2a283"
  },
  {
   "cell_type": "markdown",
   "source": [
    "## Dataset 2\n",
    "100000 users, 20000 businesses, 40000 tips, friends are fixed, 100 friends per user"
   ],
   "metadata": {
    "collapsed": false
   },
   "id": "3cb2f994acb951be"
  },
  {
   "cell_type": "code",
   "execution_count": null,
   "outputs": [],
   "source": [
    "output_users = 'set2_users.json'\n",
    "output_businesses = 'set2_businesses.json'\n",
    "output_tips = 'set2_tips.json'\n",
    "max_users = 100000\n",
    "max_businesses = 20000\n",
    "max_tips = 40000\n",
    "max_friends = 100\n",
    "generate_reduced_dataset(source_users, source_businesses, source_tips, output_users, output_businesses, output_tips, max_users, max_businesses, max_tips, max_friends,\n",
    "                         fixed_friend= True, random_compliments=True, random_elite_years=True, random_tip_compliments=True)"
   ],
   "metadata": {
    "collapsed": false
   },
   "id": "9614c50bdbc11ff0"
  },
  {
   "cell_type": "markdown",
   "source": [
    "## Dataset 3\n",
    "100000 users, 20000 businesses, 40000 tips, friends are fixed, 1000 friends per user"
   ],
   "metadata": {
    "collapsed": false
   },
   "id": "c1447af5cffc1d19"
  },
  {
   "cell_type": "code",
   "execution_count": null,
   "outputs": [],
   "source": [
    "output_users = 'set3_users.json'\n",
    "output_businesses = 'set3_businesses.json'\n",
    "output_tips = 'set3_tips.json'\n",
    "max_users = 100000\n",
    "max_businesses = 20000\n",
    "max_tips = 40000\n",
    "max_friends = 300\n",
    "generate_reduced_dataset(source_users, source_businesses, source_tips, output_users, output_businesses, output_tips, max_users, max_businesses, max_tips, max_friends,\n",
    "                         fixed_friend= True, random_compliments=True, random_elite_years=True, random_tip_compliments=True)"
   ],
   "metadata": {
    "collapsed": false
   },
   "id": "36d360678e59a31"
  }
 ],
 "metadata": {
  "kernelspec": {
   "display_name": "Python 3",
   "language": "python",
   "name": "python3"
  },
  "language_info": {
   "codemirror_mode": {
    "name": "ipython",
    "version": 2
   },
   "file_extension": ".py",
   "mimetype": "text/x-python",
   "name": "python",
   "nbconvert_exporter": "python",
   "pygments_lexer": "ipython2",
   "version": "2.7.6"
  }
 },
 "nbformat": 4,
 "nbformat_minor": 5
}
